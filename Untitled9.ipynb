{
  "cells": [
    {
      "cell_type": "markdown",
      "metadata": {
        "id": "view-in-github",
        "colab_type": "text"
      },
      "source": [
        "<a href=\"https://colab.research.google.com/github/nida07/college-chatbot-RNN/blob/master/Untitled9.ipynb\" target=\"_parent\"><img src=\"https://colab.research.google.com/assets/colab-badge.svg\" alt=\"Open In Colab\"/></a>"
      ]
    },
    {
      "cell_type": "code",
      "execution_count": 1,
      "metadata": {
        "id": "PI-XkJaWP0EQ",
        "colab": {
          "base_uri": "https://localhost:8080/"
        },
        "outputId": "046bcdae-1f95-4b56-8c60-a0db411bb7b2"
      },
      "outputs": [
        {
          "output_type": "stream",
          "name": "stdout",
          "text": [
            "Requirement already satisfied: tensorflow in /usr/local/lib/python3.10/dist-packages (2.15.0)\n",
            "Requirement already satisfied: absl-py>=1.0.0 in /usr/local/lib/python3.10/dist-packages (from tensorflow) (1.4.0)\n",
            "Requirement already satisfied: astunparse>=1.6.0 in /usr/local/lib/python3.10/dist-packages (from tensorflow) (1.6.3)\n",
            "Requirement already satisfied: flatbuffers>=23.5.26 in /usr/local/lib/python3.10/dist-packages (from tensorflow) (24.3.7)\n",
            "Requirement already satisfied: gast!=0.5.0,!=0.5.1,!=0.5.2,>=0.2.1 in /usr/local/lib/python3.10/dist-packages (from tensorflow) (0.5.4)\n",
            "Requirement already satisfied: google-pasta>=0.1.1 in /usr/local/lib/python3.10/dist-packages (from tensorflow) (0.2.0)\n",
            "Requirement already satisfied: h5py>=2.9.0 in /usr/local/lib/python3.10/dist-packages (from tensorflow) (3.9.0)\n",
            "Requirement already satisfied: libclang>=13.0.0 in /usr/local/lib/python3.10/dist-packages (from tensorflow) (16.0.6)\n",
            "Requirement already satisfied: ml-dtypes~=0.2.0 in /usr/local/lib/python3.10/dist-packages (from tensorflow) (0.2.0)\n",
            "Requirement already satisfied: numpy<2.0.0,>=1.23.5 in /usr/local/lib/python3.10/dist-packages (from tensorflow) (1.25.2)\n",
            "Requirement already satisfied: opt-einsum>=2.3.2 in /usr/local/lib/python3.10/dist-packages (from tensorflow) (3.3.0)\n",
            "Requirement already satisfied: packaging in /usr/local/lib/python3.10/dist-packages (from tensorflow) (24.0)\n",
            "Requirement already satisfied: protobuf!=4.21.0,!=4.21.1,!=4.21.2,!=4.21.3,!=4.21.4,!=4.21.5,<5.0.0dev,>=3.20.3 in /usr/local/lib/python3.10/dist-packages (from tensorflow) (3.20.3)\n",
            "Requirement already satisfied: setuptools in /usr/local/lib/python3.10/dist-packages (from tensorflow) (67.7.2)\n",
            "Requirement already satisfied: six>=1.12.0 in /usr/local/lib/python3.10/dist-packages (from tensorflow) (1.16.0)\n",
            "Requirement already satisfied: termcolor>=1.1.0 in /usr/local/lib/python3.10/dist-packages (from tensorflow) (2.4.0)\n",
            "Requirement already satisfied: typing-extensions>=3.6.6 in /usr/local/lib/python3.10/dist-packages (from tensorflow) (4.10.0)\n",
            "Requirement already satisfied: wrapt<1.15,>=1.11.0 in /usr/local/lib/python3.10/dist-packages (from tensorflow) (1.14.1)\n",
            "Requirement already satisfied: tensorflow-io-gcs-filesystem>=0.23.1 in /usr/local/lib/python3.10/dist-packages (from tensorflow) (0.36.0)\n",
            "Requirement already satisfied: grpcio<2.0,>=1.24.3 in /usr/local/lib/python3.10/dist-packages (from tensorflow) (1.62.1)\n",
            "Requirement already satisfied: tensorboard<2.16,>=2.15 in /usr/local/lib/python3.10/dist-packages (from tensorflow) (2.15.2)\n",
            "Requirement already satisfied: tensorflow-estimator<2.16,>=2.15.0 in /usr/local/lib/python3.10/dist-packages (from tensorflow) (2.15.0)\n",
            "Requirement already satisfied: keras<2.16,>=2.15.0 in /usr/local/lib/python3.10/dist-packages (from tensorflow) (2.15.0)\n",
            "Requirement already satisfied: wheel<1.0,>=0.23.0 in /usr/local/lib/python3.10/dist-packages (from astunparse>=1.6.0->tensorflow) (0.43.0)\n",
            "Requirement already satisfied: google-auth<3,>=1.6.3 in /usr/local/lib/python3.10/dist-packages (from tensorboard<2.16,>=2.15->tensorflow) (2.27.0)\n",
            "Requirement already satisfied: google-auth-oauthlib<2,>=0.5 in /usr/local/lib/python3.10/dist-packages (from tensorboard<2.16,>=2.15->tensorflow) (1.2.0)\n",
            "Requirement already satisfied: markdown>=2.6.8 in /usr/local/lib/python3.10/dist-packages (from tensorboard<2.16,>=2.15->tensorflow) (3.5.2)\n",
            "Requirement already satisfied: requests<3,>=2.21.0 in /usr/local/lib/python3.10/dist-packages (from tensorboard<2.16,>=2.15->tensorflow) (2.31.0)\n",
            "Requirement already satisfied: tensorboard-data-server<0.8.0,>=0.7.0 in /usr/local/lib/python3.10/dist-packages (from tensorboard<2.16,>=2.15->tensorflow) (0.7.2)\n",
            "Requirement already satisfied: werkzeug>=1.0.1 in /usr/local/lib/python3.10/dist-packages (from tensorboard<2.16,>=2.15->tensorflow) (3.0.1)\n",
            "Requirement already satisfied: cachetools<6.0,>=2.0.0 in /usr/local/lib/python3.10/dist-packages (from google-auth<3,>=1.6.3->tensorboard<2.16,>=2.15->tensorflow) (5.3.3)\n",
            "Requirement already satisfied: pyasn1-modules>=0.2.1 in /usr/local/lib/python3.10/dist-packages (from google-auth<3,>=1.6.3->tensorboard<2.16,>=2.15->tensorflow) (0.3.0)\n",
            "Requirement already satisfied: rsa<5,>=3.1.4 in /usr/local/lib/python3.10/dist-packages (from google-auth<3,>=1.6.3->tensorboard<2.16,>=2.15->tensorflow) (4.9)\n",
            "Requirement already satisfied: requests-oauthlib>=0.7.0 in /usr/local/lib/python3.10/dist-packages (from google-auth-oauthlib<2,>=0.5->tensorboard<2.16,>=2.15->tensorflow) (1.4.0)\n",
            "Requirement already satisfied: charset-normalizer<4,>=2 in /usr/local/lib/python3.10/dist-packages (from requests<3,>=2.21.0->tensorboard<2.16,>=2.15->tensorflow) (3.3.2)\n",
            "Requirement already satisfied: idna<4,>=2.5 in /usr/local/lib/python3.10/dist-packages (from requests<3,>=2.21.0->tensorboard<2.16,>=2.15->tensorflow) (3.6)\n",
            "Requirement already satisfied: urllib3<3,>=1.21.1 in /usr/local/lib/python3.10/dist-packages (from requests<3,>=2.21.0->tensorboard<2.16,>=2.15->tensorflow) (2.0.7)\n",
            "Requirement already satisfied: certifi>=2017.4.17 in /usr/local/lib/python3.10/dist-packages (from requests<3,>=2.21.0->tensorboard<2.16,>=2.15->tensorflow) (2024.2.2)\n",
            "Requirement already satisfied: MarkupSafe>=2.1.1 in /usr/local/lib/python3.10/dist-packages (from werkzeug>=1.0.1->tensorboard<2.16,>=2.15->tensorflow) (2.1.5)\n",
            "Requirement already satisfied: pyasn1<0.6.0,>=0.4.6 in /usr/local/lib/python3.10/dist-packages (from pyasn1-modules>=0.2.1->google-auth<3,>=1.6.3->tensorboard<2.16,>=2.15->tensorflow) (0.5.1)\n",
            "Requirement already satisfied: oauthlib>=3.0.0 in /usr/local/lib/python3.10/dist-packages (from requests-oauthlib>=0.7.0->google-auth-oauthlib<2,>=0.5->tensorboard<2.16,>=2.15->tensorflow) (3.2.2)\n"
          ]
        }
      ],
      "source": [
        "pip install tensorflow\n"
      ]
    },
    {
      "cell_type": "code",
      "source": [
        "from google.colab import drive\n",
        "drive.mount('/content/drive')"
      ],
      "metadata": {
        "id": "XkUuWgpVv9Q0",
        "colab": {
          "base_uri": "https://localhost:8080/"
        },
        "outputId": "25068eb9-7e85-45c2-c9f0-dd3be0b99abe"
      },
      "execution_count": 2,
      "outputs": [
        {
          "output_type": "stream",
          "name": "stdout",
          "text": [
            "Drive already mounted at /content/drive; to attempt to forcibly remount, call drive.mount(\"/content/drive\", force_remount=True).\n"
          ]
        }
      ]
    },
    {
      "cell_type": "markdown",
      "metadata": {
        "id": "LAe__u-jwfxv"
      },
      "source": []
    },
    {
      "cell_type": "code",
      "execution_count": 3,
      "metadata": {
        "id": "YIaXbOA7JvaE"
      },
      "outputs": [],
      "source": [
        "#tensorflow is an open source for the ml framework, helping in training, building the model which provide API keras\n"
      ]
    },
    {
      "cell_type": "code",
      "execution_count": 8,
      "metadata": {
        "id": "WQL18WWPP4LY"
      },
      "outputs": [],
      "source": [
        "import json\n",
        "\n",
        "with open('/content/drive/MyDrive/chatbot/intents.json', 'r') as file:\n",
        "    intents = json.load(file)\n",
        "\n",
        "# Preprocess data\n",
        "patterns = []\n",
        "responses = []\n",
        "tags = []\n",
        "\n",
        "for intent in intents['intents']:\n",
        "    for pattern in intent['patterns']:\n",
        "        patterns.append(pattern)\n",
        "        responses.append(intent['responses'][0])  # We'll just use the first response for simplicity\n",
        "        tags.append(intent['tag'])\n"
      ]
    },
    {
      "cell_type": "code",
      "execution_count": 9,
      "metadata": {
        "id": "04E_6UdXQ6N_"
      },
      "outputs": [],
      "source": [
        "\n",
        "# padding sequences to a fixed length, tokenizing text data\n",
        "from tensorflow.keras.preprocessing.text import Tokenizer\n",
        "from tensorflow.keras.preprocessing.sequence import pad_sequences\n",
        "\n",
        "# Tokenize input patterns\n",
        "tokenizer = Tokenizer()\n",
        "#vocabulary, input patterns, and numerical indices based on word repetition\n",
        "tokenizer.fit_on_texts(patterns)\n",
        "#  word index dictionary from the tokenizer\n",
        "word_index = tokenizer.word_index\n",
        "\n",
        "# Convert text to sequences\n",
        "sequences = tokenizer.texts_to_sequences(patterns)\n",
        "# max number of sequences in each length and find the maximum and it set as pad_sequences\n",
        "max_sequence_len = max([len(seq) for seq in sequences])\n",
        "\n",
        "# Pad sequences to have same length add 0 after ie; padding = 'post' so each sequence will be same length\n",
        "padded_sequences = pad_sequences(sequences, maxlen=max_sequence_len, padding='post')\n"
      ]
    },
    {
      "cell_type": "code",
      "execution_count": 10,
      "metadata": {
        "id": "3qSGDTQZRSnk"
      },
      "outputs": [],
      "source": [
        "# LabelEncoder is used to convert categorical labels into numerical labels.\n",
        "from sklearn.preprocessing import LabelEncoder\n",
        "\n",
        "# Convert tags to numerical labels\n",
        "label_encoder = LabelEncoder()\n",
        "encoded_tags = label_encoder.fit_transform(tags)\n",
        "\n",
        "# Train the model\n",
        "# model.fit(padded_sequences, encoded_tags, epochs=100, verbose=1)\n"
      ]
    },
    {
      "cell_type": "code",
      "execution_count": null,
      "metadata": {
        "id": "LSK6ZPQAEG8c"
      },
      "outputs": [],
      "source": [
        "# model.summary()"
      ]
    },
    {
      "cell_type": "code",
      "execution_count": 11,
      "metadata": {
        "id": "l2KEdyFeQ_Vo",
        "colab": {
          "base_uri": "https://localhost:8080/"
        },
        "outputId": "33cd6fb4-7ca8-40f7-ec25-f853372ed84d"
      },
      "outputs": [
        {
          "output_type": "stream",
          "name": "stdout",
          "text": [
            "Epoch 1/100\n",
            "13/13 [==============================] - 4s 79ms/step - loss: 5.9637 - accuracy: 0.0507\n",
            "Epoch 2/100\n",
            "13/13 [==============================] - 1s 67ms/step - loss: 4.9327 - accuracy: 0.0556\n",
            "Epoch 3/100\n",
            "13/13 [==============================] - 1s 79ms/step - loss: 3.6436 - accuracy: 0.0628\n",
            "Epoch 4/100\n",
            "13/13 [==============================] - 0s 31ms/step - loss: 3.5771 - accuracy: 0.0507\n",
            "Epoch 5/100\n",
            "13/13 [==============================] - 0s 17ms/step - loss: 3.5503 - accuracy: 0.0628\n",
            "Epoch 6/100\n",
            "13/13 [==============================] - 0s 5ms/step - loss: 3.5539 - accuracy: 0.0362\n",
            "Epoch 7/100\n",
            "13/13 [==============================] - 0s 18ms/step - loss: 3.5477 - accuracy: 0.0556\n",
            "Epoch 8/100\n",
            "13/13 [==============================] - 0s 5ms/step - loss: 3.5492 - accuracy: 0.0652\n",
            "Epoch 9/100\n",
            "13/13 [==============================] - 0s 19ms/step - loss: 3.5539 - accuracy: 0.0652\n",
            "Epoch 10/100\n",
            "13/13 [==============================] - 0s 5ms/step - loss: 3.5504 - accuracy: 0.0483\n",
            "Epoch 11/100\n",
            "13/13 [==============================] - 0s 5ms/step - loss: 3.5489 - accuracy: 0.0507\n",
            "Epoch 12/100\n",
            "13/13 [==============================] - 0s 5ms/step - loss: 3.5418 - accuracy: 0.0556\n",
            "Epoch 13/100\n",
            "13/13 [==============================] - 0s 41ms/step - loss: 3.5399 - accuracy: 0.0628\n",
            "Epoch 14/100\n",
            "13/13 [==============================] - 1s 25ms/step - loss: 3.5433 - accuracy: 0.0580\n",
            "Epoch 15/100\n",
            "13/13 [==============================] - 0s 7ms/step - loss: 3.5431 - accuracy: 0.0531\n",
            "Epoch 16/100\n",
            "13/13 [==============================] - 0s 7ms/step - loss: 3.5378 - accuracy: 0.0507\n",
            "Epoch 17/100\n",
            "13/13 [==============================] - 0s 7ms/step - loss: 3.5368 - accuracy: 0.0628\n",
            "Epoch 18/100\n",
            "13/13 [==============================] - 0s 6ms/step - loss: 3.5392 - accuracy: 0.0531\n",
            "Epoch 19/100\n",
            "13/13 [==============================] - 0s 7ms/step - loss: 3.5295 - accuracy: 0.0628\n",
            "Epoch 20/100\n",
            "13/13 [==============================] - 0s 26ms/step - loss: 3.5304 - accuracy: 0.0652\n",
            "Epoch 21/100\n",
            "13/13 [==============================] - 0s 24ms/step - loss: 3.5235 - accuracy: 0.0580\n",
            "Epoch 22/100\n",
            "13/13 [==============================] - 0s 6ms/step - loss: 3.5145 - accuracy: 0.0652\n",
            "Epoch 23/100\n",
            "13/13 [==============================] - 0s 6ms/step - loss: 3.5156 - accuracy: 0.0652\n",
            "Epoch 24/100\n",
            "13/13 [==============================] - 0s 7ms/step - loss: 3.4927 - accuracy: 0.0628\n",
            "Epoch 25/100\n",
            "13/13 [==============================] - 0s 7ms/step - loss: 3.4504 - accuracy: 0.0725\n",
            "Epoch 26/100\n",
            "13/13 [==============================] - 0s 7ms/step - loss: 3.3657 - accuracy: 0.0966\n",
            "Epoch 27/100\n",
            "13/13 [==============================] - 0s 7ms/step - loss: 3.2508 - accuracy: 0.0990\n",
            "Epoch 28/100\n",
            "13/13 [==============================] - 0s 29ms/step - loss: 3.1049 - accuracy: 0.1280\n",
            "Epoch 29/100\n",
            "13/13 [==============================] - 0s 8ms/step - loss: 2.9822 - accuracy: 0.1425\n",
            "Epoch 30/100\n",
            "13/13 [==============================] - 0s 5ms/step - loss: 2.8662 - accuracy: 0.1522\n",
            "Epoch 31/100\n",
            "13/13 [==============================] - 0s 5ms/step - loss: 2.7548 - accuracy: 0.1739\n",
            "Epoch 32/100\n",
            "13/13 [==============================] - 0s 5ms/step - loss: 2.6798 - accuracy: 0.1932\n",
            "Epoch 33/100\n",
            "13/13 [==============================] - 0s 5ms/step - loss: 2.6292 - accuracy: 0.1570\n",
            "Epoch 34/100\n",
            "13/13 [==============================] - 0s 5ms/step - loss: 2.5527 - accuracy: 0.2126\n",
            "Epoch 35/100\n",
            "13/13 [==============================] - 0s 5ms/step - loss: 2.4865 - accuracy: 0.2391\n",
            "Epoch 36/100\n",
            "13/13 [==============================] - 0s 5ms/step - loss: 2.4496 - accuracy: 0.2126\n",
            "Epoch 37/100\n",
            "13/13 [==============================] - 0s 5ms/step - loss: 2.3648 - accuracy: 0.2536\n",
            "Epoch 38/100\n",
            "13/13 [==============================] - 0s 5ms/step - loss: 2.2993 - accuracy: 0.2754\n",
            "Epoch 39/100\n",
            "13/13 [==============================] - 0s 5ms/step - loss: 2.2934 - accuracy: 0.2681\n",
            "Epoch 40/100\n",
            "13/13 [==============================] - 0s 5ms/step - loss: 2.2323 - accuracy: 0.2874\n",
            "Epoch 41/100\n",
            "13/13 [==============================] - 0s 5ms/step - loss: 2.1610 - accuracy: 0.2923\n",
            "Epoch 42/100\n",
            "13/13 [==============================] - 0s 5ms/step - loss: 2.0719 - accuracy: 0.3599\n",
            "Epoch 43/100\n",
            "13/13 [==============================] - 0s 5ms/step - loss: 2.0237 - accuracy: 0.3671\n",
            "Epoch 44/100\n",
            "13/13 [==============================] - 0s 5ms/step - loss: 2.0455 - accuracy: 0.3116\n",
            "Epoch 45/100\n",
            "13/13 [==============================] - 0s 5ms/step - loss: 2.0211 - accuracy: 0.3478\n",
            "Epoch 46/100\n",
            "13/13 [==============================] - 0s 18ms/step - loss: 1.9333 - accuracy: 0.3865\n",
            "Epoch 47/100\n",
            "13/13 [==============================] - 0s 5ms/step - loss: 1.8856 - accuracy: 0.3696\n",
            "Epoch 48/100\n",
            "13/13 [==============================] - 0s 6ms/step - loss: 1.8011 - accuracy: 0.4324\n",
            "Epoch 49/100\n",
            "13/13 [==============================] - 0s 5ms/step - loss: 1.7245 - accuracy: 0.4565\n",
            "Epoch 50/100\n",
            "13/13 [==============================] - 0s 5ms/step - loss: 1.6655 - accuracy: 0.4469\n",
            "Epoch 51/100\n",
            "13/13 [==============================] - 0s 5ms/step - loss: 1.6152 - accuracy: 0.4589\n",
            "Epoch 52/100\n",
            "13/13 [==============================] - 0s 5ms/step - loss: 1.5610 - accuracy: 0.4758\n",
            "Epoch 53/100\n",
            "13/13 [==============================] - 0s 5ms/step - loss: 1.5237 - accuracy: 0.5072\n",
            "Epoch 54/100\n",
            "13/13 [==============================] - 0s 5ms/step - loss: 1.4545 - accuracy: 0.5290\n",
            "Epoch 55/100\n",
            "13/13 [==============================] - 0s 5ms/step - loss: 1.4183 - accuracy: 0.5169\n",
            "Epoch 56/100\n",
            "13/13 [==============================] - 0s 5ms/step - loss: 1.4041 - accuracy: 0.5338\n",
            "Epoch 57/100\n",
            "13/13 [==============================] - 0s 17ms/step - loss: 1.3588 - accuracy: 0.5797\n",
            "Epoch 58/100\n",
            "13/13 [==============================] - 0s 5ms/step - loss: 1.2938 - accuracy: 0.5966\n",
            "Epoch 59/100\n",
            "13/13 [==============================] - 0s 5ms/step - loss: 1.2545 - accuracy: 0.6039\n",
            "Epoch 60/100\n",
            "13/13 [==============================] - 0s 5ms/step - loss: 1.2322 - accuracy: 0.6208\n",
            "Epoch 61/100\n",
            "13/13 [==============================] - 0s 5ms/step - loss: 1.1744 - accuracy: 0.6498\n",
            "Epoch 62/100\n",
            "13/13 [==============================] - 0s 5ms/step - loss: 1.1226 - accuracy: 0.6473\n",
            "Epoch 63/100\n",
            "13/13 [==============================] - 0s 6ms/step - loss: 1.0713 - accuracy: 0.6667\n",
            "Epoch 64/100\n",
            "13/13 [==============================] - 0s 5ms/step - loss: 1.0389 - accuracy: 0.6932\n",
            "Epoch 65/100\n",
            "13/13 [==============================] - 0s 5ms/step - loss: 1.0022 - accuracy: 0.7053\n",
            "Epoch 66/100\n",
            "13/13 [==============================] - 0s 5ms/step - loss: 0.9781 - accuracy: 0.6908\n",
            "Epoch 67/100\n",
            "13/13 [==============================] - 0s 5ms/step - loss: 0.9058 - accuracy: 0.7271\n",
            "Epoch 68/100\n",
            "13/13 [==============================] - 0s 5ms/step - loss: 0.9107 - accuracy: 0.7367\n",
            "Epoch 69/100\n",
            "13/13 [==============================] - 0s 5ms/step - loss: 0.8700 - accuracy: 0.7657\n",
            "Epoch 70/100\n",
            "13/13 [==============================] - 0s 5ms/step - loss: 0.8284 - accuracy: 0.7681\n",
            "Epoch 71/100\n",
            "13/13 [==============================] - 0s 5ms/step - loss: 0.7734 - accuracy: 0.7923\n",
            "Epoch 72/100\n",
            "13/13 [==============================] - 0s 5ms/step - loss: 0.7310 - accuracy: 0.8213\n",
            "Epoch 73/100\n",
            "13/13 [==============================] - 0s 5ms/step - loss: 0.7138 - accuracy: 0.8237\n",
            "Epoch 74/100\n",
            "13/13 [==============================] - 0s 5ms/step - loss: 0.6849 - accuracy: 0.8261\n",
            "Epoch 75/100\n",
            "13/13 [==============================] - 0s 5ms/step - loss: 0.6475 - accuracy: 0.8527\n",
            "Epoch 76/100\n",
            "13/13 [==============================] - 0s 5ms/step - loss: 0.6111 - accuracy: 0.8647\n",
            "Epoch 77/100\n",
            "13/13 [==============================] - 0s 5ms/step - loss: 0.5845 - accuracy: 0.8768\n",
            "Epoch 78/100\n",
            "13/13 [==============================] - 0s 5ms/step - loss: 0.5510 - accuracy: 0.8986\n",
            "Epoch 79/100\n",
            "13/13 [==============================] - 0s 5ms/step - loss: 0.5501 - accuracy: 0.8913\n",
            "Epoch 80/100\n",
            "13/13 [==============================] - 0s 5ms/step - loss: 0.5291 - accuracy: 0.8865\n",
            "Epoch 81/100\n",
            "13/13 [==============================] - 0s 5ms/step - loss: 0.5591 - accuracy: 0.8768\n",
            "Epoch 82/100\n",
            "13/13 [==============================] - 0s 5ms/step - loss: 0.5106 - accuracy: 0.8961\n",
            "Epoch 83/100\n",
            "13/13 [==============================] - 0s 5ms/step - loss: 0.4752 - accuracy: 0.9155\n",
            "Epoch 84/100\n",
            "13/13 [==============================] - 0s 5ms/step - loss: 0.4654 - accuracy: 0.9130\n",
            "Epoch 85/100\n",
            "13/13 [==============================] - 0s 5ms/step - loss: 0.4395 - accuracy: 0.9275\n",
            "Epoch 86/100\n",
            "13/13 [==============================] - 0s 5ms/step - loss: 0.4198 - accuracy: 0.9203\n",
            "Epoch 87/100\n",
            "13/13 [==============================] - 0s 5ms/step - loss: 0.3886 - accuracy: 0.9396\n",
            "Epoch 88/100\n",
            "13/13 [==============================] - 0s 5ms/step - loss: 0.3640 - accuracy: 0.9420\n",
            "Epoch 89/100\n",
            "13/13 [==============================] - 0s 5ms/step - loss: 0.3416 - accuracy: 0.9444\n",
            "Epoch 90/100\n",
            "13/13 [==============================] - 0s 5ms/step - loss: 0.3278 - accuracy: 0.9420\n",
            "Epoch 91/100\n",
            "13/13 [==============================] - 0s 5ms/step - loss: 0.3173 - accuracy: 0.9469\n",
            "Epoch 92/100\n",
            "13/13 [==============================] - 0s 5ms/step - loss: 0.3037 - accuracy: 0.9444\n",
            "Epoch 93/100\n",
            "13/13 [==============================] - 0s 5ms/step - loss: 0.2851 - accuracy: 0.9638\n",
            "Epoch 94/100\n",
            "13/13 [==============================] - 0s 5ms/step - loss: 0.2702 - accuracy: 0.9638\n",
            "Epoch 95/100\n",
            "13/13 [==============================] - 0s 5ms/step - loss: 0.2533 - accuracy: 0.9686\n",
            "Epoch 96/100\n",
            "13/13 [==============================] - 0s 5ms/step - loss: 0.2377 - accuracy: 0.9758\n",
            "Epoch 97/100\n",
            "13/13 [==============================] - 0s 5ms/step - loss: 0.2277 - accuracy: 0.9783\n",
            "Epoch 98/100\n",
            "13/13 [==============================] - 0s 5ms/step - loss: 0.2242 - accuracy: 0.9686\n",
            "Epoch 99/100\n",
            "13/13 [==============================] - 0s 5ms/step - loss: 0.2257 - accuracy: 0.9710\n",
            "Epoch 100/100\n",
            "13/13 [==============================] - 0s 5ms/step - loss: 0.2053 - accuracy: 0.9758\n"
          ]
        },
        {
          "output_type": "execute_result",
          "data": {
            "text/plain": [
              "<keras.src.callbacks.History at 0x7b862c07b2e0>"
            ]
          },
          "metadata": {},
          "execution_count": 11
        }
      ],
      "source": [
        "# Sequential is a class for creating a linear stack of layers. Embedding, LSTM,\n",
        "# and Dense are classes representing the layers\n",
        "\n",
        "from tensorflow.keras.models import Sequential\n",
        "from tensorflow.keras.layers import Embedding, LSTM, Dense\n",
        "\n",
        "# layers 3\n",
        "# Embedding(input dim, output dimension, input_length)\n",
        "# lstm uses 128 memory cell\n",
        "# dense (tot no of tags , activation function)\n",
        "\n",
        "\n",
        "# Define model architecture\n",
        "model = Sequential([\n",
        "    Embedding(len(word_index) + 1, 64, input_length=max_sequence_len),\n",
        "    LSTM(128),\n",
        "    Dense(len(tags), activation='softmax')\n",
        "])\n",
        "\n",
        "# adaptive moment estimation increase learning rate\n",
        "# loss is multiclass integer-based, optimizer update model weight, accuracy evaluation\n",
        "model.compile(loss='sparse_categorical_crossentropy', optimizer='adam', metrics=['accuracy'])\n",
        "\n",
        "# Train the model(input,target label,epoch verbos)\n",
        "model.fit(padded_sequences, encoded_tags, epochs=100, verbose=1)\n"
      ]
    },
    {
      "cell_type": "code",
      "source": [
        "# # Sequential is a class for creating a linear stack of layers. Embedding, LSTM,\n",
        "# # and Dense are classes representing the layers\n",
        "\n",
        "# from tensorflow.keras.models import Sequential\n",
        "# from tensorflow.keras.layers import Embedding, LSTM, Dense\n",
        "\n",
        "# # layers 3\n",
        "# # Embedding(input dim, output dimension, input_length)\n",
        "# # lstm uses 128 memory cell\n",
        "# # dense (tot no of tags , activation function)\n",
        "\n",
        "\n",
        "# # Define model architecture\n",
        "# model = Sequential([\n",
        "#     Embedding(len(word_index) + 1, 64, input_length=max_sequence_len),\n",
        "#     LSTM(100),\n",
        "#     Dense(len(tags), activation='softmax')\n",
        "# ])\n",
        "\n",
        "# # adaptive moment estimation increase learning rate\n",
        "# # loss is multiclass integer-based, optimizer update model weight, accuracy evaluation\n",
        "# model.compile(loss='sparse_categorical_crossentropy', optimizer='adam', metrics=['accuracy'])\n",
        "\n",
        "# # Train the model(input,target label,epoch verbos)\n",
        "# model.fit(padded_sequences, encoded_tags, epochs=50, verbose=1)\n"
      ],
      "metadata": {
        "id": "-npmwQ1m-hEQ"
      },
      "execution_count": 12,
      "outputs": []
    },
    {
      "cell_type": "code",
      "source": [
        "# # Sequential is a class for creating a linear stack of layers. Embedding, LSTM,\n",
        "# # and Dense are classes representing the layers\n",
        "\n",
        "# from tensorflow.keras.models import Sequential\n",
        "# from tensorflow.keras.layers import Embedding, LSTM, Dense\n",
        "\n",
        "# # layers 3\n",
        "# # Embedding(input dim, output dimension, input_length)\n",
        "# # lstm uses 128 memory cell\n",
        "# # dense (tot no of tags , activation function)\n",
        "\n",
        "\n",
        "# # Define model architecture\n",
        "# model = Sequential([\n",
        "#     Embedding(len(word_index) + 1, 64, input_length=max_sequence_len),\n",
        "#     LSTM(150),\n",
        "#     Dense(len(tags), activation='softmax')\n",
        "# ])\n",
        "\n",
        "# # adaptive moment estimation increase learning rate\n",
        "# # loss is multiclass integer-based, optimizer update model weight, accuracy evaluation\n",
        "# model.compile(loss='sparse_categorical_crossentropy', optimizer='adam', metrics=['accuracy'])\n",
        "\n",
        "# # Train the model(input,target label,epoch verbos)\n",
        "# model.fit(padded_sequences, encoded_tags, epochs=200, verbose=1)\n"
      ],
      "metadata": {
        "id": "bEnBWm_E-6LJ"
      },
      "execution_count": 13,
      "outputs": []
    },
    {
      "cell_type": "code",
      "execution_count": 14,
      "metadata": {
        "id": "9QiHpV6_Eqot"
      },
      "outputs": [],
      "source": [
        "# model.summary()"
      ]
    },
    {
      "cell_type": "code",
      "execution_count": 15,
      "metadata": {
        "id": "dq5tZiv4UOY-"
      },
      "outputs": [],
      "source": [
        "from sklearn.preprocessing import LabelEncoder\n",
        "\n",
        "# Convert tags to numerical labels\n",
        "label_encoder = LabelEncoder()\n",
        "encoded_tags = label_encoder.fit_transform(tags)\n",
        "\n",
        "# # Train the model\n",
        "# model.fit(padded_sequences, encoded_tags, epochs=100, verbose=1)\n"
      ]
    },
    {
      "cell_type": "code",
      "execution_count": 16,
      "metadata": {
        "id": "IP9VIoP6U5Ft",
        "colab": {
          "base_uri": "https://localhost:8080/"
        },
        "outputId": "8d3991f6-4db1-4d3a-f000-5f16321a09ba"
      },
      "outputs": [
        {
          "output_type": "stream",
          "name": "stdout",
          "text": [
            "You: hello\n",
            "1/1 [==============================] - 0s 409ms/step\n",
            "Bot: Hello!\n",
            "You: class time\n",
            "1/1 [==============================] - 0s 19ms/step\n",
            "Bot: College is open 8am-5pm Monday-Saturday!\n",
            "You: courses\n",
            "1/1 [==============================] - 0s 18ms/step\n",
            "Bot: Our university offers Information Technology, computer Engineering, Mechanical engineering,Chemical engineering, Civil engineering and extc Engineering.\n",
            "You: hod\n",
            "1/1 [==============================] - 0s 18ms/step\n",
            "Bot: HODs differ for each branch, please be more specific like: (HOD of CS)\n",
            "You: clubs\n",
            "1/1 [==============================] - 0s 17ms/step\n",
            "Bot: Our college offers a variety of student clubs and societies, including cultural, academic, sports, and special interest clubs. Some examples include the Drama Club, Music Society, Debate Team, Robotics Club, and Environmental Club. You can get more information about specific clubs by contacting the student affairs office or visiting our website.\n",
            "You: academic calendar\n",
            "1/1 [==============================] - 0s 27ms/step\n",
            "Bot: Hello!\n",
            "You: exit\n",
            "see you later!!\n"
          ]
        }
      ],
      "source": [
        "import numpy as np\n",
        "\n",
        "def chat():\n",
        "    while True:\n",
        "        user_input = input(\"You: \")\n",
        "        if user_input.lower() == 'exit':\n",
        "            print(\"see you later!!\")\n",
        "            break\n",
        "\n",
        "        # Tokenize user input\n",
        "        input_seq = tokenizer.texts_to_sequences([user_input])\n",
        "        padded_input_seq = pad_sequences(input_seq, maxlen=max_sequence_len, padding='post')\n",
        "\n",
        "        # Predict probabilities for each class\n",
        "        predicted_probs = model.predict(padded_input_seq)\n",
        "\n",
        "        # Get predicted tag\n",
        "        predicted_tag_index = np.argmax(predicted_probs)\n",
        "        predicted_tag = label_encoder.inverse_transform([predicted_tag_index])[0]\n",
        "\n",
        "        # Get response\n",
        "        responses_list = [responses[i] for i, tag in enumerate(tags) if tag == predicted_tag]\n",
        "        print(\"Bot:\", np.random.choice(responses_list))\n",
        "\n",
        "# Start chatting\n",
        "chat()\n"
      ]
    },
    {
      "cell_type": "code",
      "execution_count": null,
      "metadata": {
        "id": "UyVjyEs8u_ge"
      },
      "outputs": [],
      "source": [
        "# import json\n",
        "# import numpy as np\n",
        "# from sklearn.feature_extraction.text import CountVectorizer\n",
        "# from sklearn.preprocessing import LabelEncoder\n",
        "# from sklearn.model_selection import train_test_split\n",
        "# from tensorflow.keras.models import Sequential\n",
        "# from tensorflow.keras.layers import Dense\n",
        "\n",
        "# # Load data from intents.json\n",
        "# with open('intents.json', 'r') as file:\n",
        "#     data = json.load(file)\n",
        "\n",
        "# # Extract patterns and tags from the dataset\n",
        "# patterns = []\n",
        "# tags = []\n",
        "# responses = []\n",
        "# for intent in data['intents']:\n",
        "#     for pattern in intent['patterns']:\n",
        "#         patterns.append(pattern)\n",
        "#         tags.append(intent['tag'])\n",
        "#         responses.append(intent['responses'][0])  # Assuming we'll use the first response\n",
        "\n",
        "# # Tokenize input patterns\n",
        "# vectorizer = CountVectorizer()\n",
        "# X = vectorizer.fit_transform(patterns).toarray()\n",
        "\n",
        "# # Encode tags into numerical labels\n",
        "# label_encoder = LabelEncoder()\n",
        "# y = label_encoder.fit_transform(tags)\n",
        "\n",
        "# # Split data into training and testing sets\n",
        "# X_train, X_test, y_train, y_test = train_test_split(X, y, test_size=0.2, random_state=42)\n",
        "\n",
        "# # Build and train the model\n",
        "# model = Sequential([\n",
        "#     Dense(128, input_shape=(X_train.shape[1],), activation='relu'),\n",
        "#     Dense(len(set(y)), activation='softmax')\n",
        "# ])\n",
        "# model.compile(loss='sparse_categorical_crossentropy', optimizer='adam', metrics=['accuracy'])\n",
        "# model.fit(X_train, y_train, epochs=100, batch_size=4, verbose=1)\n",
        "\n",
        "# # # Function to interact with the chatbot\n",
        "# # def chat():\n",
        "# #     while True:\n",
        "# #         user_input = input(\"You: \")\n",
        "# #         if user_input.lower() == 'quit':\n",
        "# #             break\n",
        "\n",
        "# #         # Tokenize user input\n",
        "# #         user_input_vec = vectorizer.transform([user_input]).toarray()\n",
        "\n",
        "# #         # Predict tag\n",
        "# #         predicted_tag = model.predict_classes(user_input_vec)\n",
        "\n",
        "# #         # Get response\n",
        "# #         response_index = np.where(y_train == predicted_tag)[0][0]\n",
        "# #         print(\"Bot:\", responses[response_index])\n",
        "\n",
        "# # # Start chatting\n",
        "# # chat()\n"
      ]
    },
    {
      "cell_type": "code",
      "execution_count": null,
      "metadata": {
        "id": "jE1cBF9OxSRH"
      },
      "outputs": [],
      "source": [
        "# # Function to interact with the chatbot\n",
        "# def chat():\n",
        "#     while True:\n",
        "#         user_input = input(\"You: \")\n",
        "#         if user_input.lower() == 'exit':\n",
        "#             break\n",
        "\n",
        "#         # Tokenize user input\n",
        "#         user_input_vec = vectorizer.transform([user_input]).toarray()\n",
        "\n",
        "#         # Predict probabilities for each class\n",
        "#         predicted_probs = model.predict(user_input_vec)\n",
        "\n",
        "#         # Get the index of the class with the highest probability\n",
        "#         predicted_tag_index = np.argmax(predicted_probs)\n",
        "\n",
        "#         # Get response\n",
        "#         response_index = np.where(y_train == predicted_tag_index)[0][0]\n",
        "#         print(\"Bot:\", responses[response_index])\n",
        "\n",
        "# # Start chatting\n",
        "# chat()\n",
        "# NOT WORKING PROPERLY"
      ]
    },
    {
      "cell_type": "code",
      "execution_count": null,
      "metadata": {
        "id": "KXYWL6oFx1kP"
      },
      "outputs": [],
      "source": [
        "# # Function to interact with the chatbot\n",
        "# def chat():\n",
        "#     while True:\n",
        "#         user_input = input(\"You: \")\n",
        "#         if user_input.lower() == 'quit':\n",
        "#             break\n",
        "#         elif user_input.strip() == '':\n",
        "#             print(\"Bot: Please provide input.\")\n",
        "#             continue\n",
        "\n",
        "#         # Tokenize user input\n",
        "#         user_input_vec = vectorizer.transform([user_input]).toarray()\n",
        "\n",
        "#         # Predict probabilities for each class\n",
        "#         predicted_probs = model.predict(user_input_vec)\n",
        "\n",
        "#         # Get the index of the class with the highest probability\n",
        "#         predicted_tag_index = np.argmax(predicted_probs)\n",
        "\n",
        "#         # Get response\n",
        "#         if predicted_tag_index < len(responses):  # Check if index is within range\n",
        "#             response_index = np.where(y_train == predicted_tag_index)[0][0]\n",
        "#             print(\"Bot:\", responses[response_index])\n",
        "#         else:\n",
        "#             print(\"Bot: I'm sorry, I didn't understand that.\")\n"
      ]
    },
    {
      "cell_type": "code",
      "execution_count": null,
      "metadata": {
        "id": "UDEehLJNx5Dn"
      },
      "outputs": [],
      "source": [
        "# chat()"
      ]
    },
    {
      "cell_type": "markdown",
      "metadata": {
        "id": "lCD0f3s3wjJH"
      },
      "source": [
        "**CHAT BOT LSTM CHATTERBOT DATASET**\n",
        "\n",
        "*:::::::::::::::::::::::::::::::::::::\n",
        "\n",
        "\n",
        "\n"
      ]
    },
    {
      "cell_type": "markdown",
      "metadata": {
        "id": "ERs49YFAxsR0"
      },
      "source": [
        "new idea"
      ]
    },
    {
      "cell_type": "code",
      "execution_count": null,
      "metadata": {
        "id": "6fwK3ZlaxxUk",
        "colab": {
          "base_uri": "https://localhost:8080/"
        },
        "outputId": "b4ca4b94-3b6e-4b6c-94b5-ddbda509a2d0"
      },
      "outputs": [
        {
          "output_type": "stream",
          "name": "stderr",
          "text": [
            "[nltk_data] Downloading package punkt to /root/nltk_data...\n",
            "[nltk_data]   Unzipping tokenizers/punkt.zip.\n"
          ]
        }
      ],
      "source": [
        "# import nltk\n",
        "# nltk.download('punkt')\n",
        "# from nltk.stem.lancaster import LancasterStemmer\n",
        "# import numpy as np\n",
        "# # import json"
      ]
    },
    {
      "cell_type": "code",
      "execution_count": null,
      "metadata": {
        "id": "a_PVepKix2jB",
        "colab": {
          "base_uri": "https://localhost:8080/"
        },
        "outputId": "ad228651-b4cc-4342-bb5a-3a140512ce8a"
      },
      "outputs": [
        {
          "output_type": "stream",
          "name": "stdout",
          "text": [
            "Collecting keras_tuner\n",
            "  Downloading keras_tuner-1.4.7-py3-none-any.whl (129 kB)\n",
            "\u001b[?25l     \u001b[90m━━━━━━━━━━━━━━━━━━━━━━━━━━━━━━━━━━━━━━━━\u001b[0m \u001b[32m0.0/129.1 kB\u001b[0m \u001b[31m?\u001b[0m eta \u001b[36m-:--:--\u001b[0m\r\u001b[2K     \u001b[90m━━━━━━━━━━━━━━━━━━━━━━━━━━━━━━━━━━━━━━━━\u001b[0m \u001b[32m129.1/129.1 kB\u001b[0m \u001b[31m4.9 MB/s\u001b[0m eta \u001b[36m0:00:00\u001b[0m\n",
            "\u001b[?25hRequirement already satisfied: keras in /usr/local/lib/python3.10/dist-packages (from keras_tuner) (2.15.0)\n",
            "Requirement already satisfied: packaging in /usr/local/lib/python3.10/dist-packages (from keras_tuner) (24.0)\n",
            "Requirement already satisfied: requests in /usr/local/lib/python3.10/dist-packages (from keras_tuner) (2.31.0)\n",
            "Collecting kt-legacy (from keras_tuner)\n",
            "  Downloading kt_legacy-1.0.5-py3-none-any.whl (9.6 kB)\n",
            "Requirement already satisfied: charset-normalizer<4,>=2 in /usr/local/lib/python3.10/dist-packages (from requests->keras_tuner) (3.3.2)\n",
            "Requirement already satisfied: idna<4,>=2.5 in /usr/local/lib/python3.10/dist-packages (from requests->keras_tuner) (3.6)\n",
            "Requirement already satisfied: urllib3<3,>=1.21.1 in /usr/local/lib/python3.10/dist-packages (from requests->keras_tuner) (2.0.7)\n",
            "Requirement already satisfied: certifi>=2017.4.17 in /usr/local/lib/python3.10/dist-packages (from requests->keras_tuner) (2024.2.2)\n",
            "Installing collected packages: kt-legacy, keras_tuner\n",
            "Successfully installed keras_tuner-1.4.7 kt-legacy-1.0.5\n"
          ]
        }
      ],
      "source": [
        "# pip install keras_tuner"
      ]
    },
    {
      "cell_type": "code",
      "execution_count": null,
      "metadata": {
        "id": "_4JJYFgryICn"
      },
      "outputs": [],
      "source": [
        "# intents = json.loads(open('/content/intents.json').read())"
      ]
    },
    {
      "cell_type": "code",
      "execution_count": null,
      "metadata": {
        "id": "fA2WGY7-yQ4c"
      },
      "outputs": [],
      "source": [
        "# words = []\n",
        "# classes = []\n",
        "# documents = []\n",
        "# #\n",
        "# ignore_chars = ['?',',','!','.']\n",
        "\n",
        "# for intent in intents[\"intents\"]:\n",
        "#     for pattern in intent[\"patterns\"]:\n",
        "#         word = nltk.word_tokenize(pattern)\n",
        "#         words.extend(word)\n",
        "#         documents.append((word,intent[\"tag\"]))\n",
        "#         if intent[\"tag\"] not in classes:\n",
        "#             classes.append(intent[\"tag\"])"
      ]
    },
    {
      "cell_type": "code",
      "execution_count": null,
      "metadata": {
        "id": "_duVfQDZyTLb",
        "colab": {
          "base_uri": "https://localhost:8080/"
        },
        "outputId": "49388454-2ead-41e2-f614-8c4174d2a422"
      },
      "outputs": [
        {
          "output_type": "execute_result",
          "data": {
            "text/plain": [
              "['greeting',\n",
              " 'goodbye',\n",
              " 'creator',\n",
              " 'name',\n",
              " 'hours',\n",
              " 'number',\n",
              " 'course',\n",
              " 'fees',\n",
              " 'location',\n",
              " 'hostel',\n",
              " 'event',\n",
              " 'document',\n",
              " 'floors',\n",
              " 'syllabus',\n",
              " 'library',\n",
              " 'infrastructure',\n",
              " 'canteen',\n",
              " 'menu',\n",
              " 'placement',\n",
              " 'ithod',\n",
              " 'computerhod',\n",
              " 'extchod',\n",
              " 'principal',\n",
              " 'sem',\n",
              " 'admission',\n",
              " 'scholarship',\n",
              " 'facilities',\n",
              " 'college intake',\n",
              " 'uniform',\n",
              " 'committee',\n",
              " 'random',\n",
              " 'swear',\n",
              " 'vacation',\n",
              " 'sports',\n",
              " 'salutaion',\n",
              " 'task',\n",
              " 'ragging',\n",
              " 'hod']"
            ]
          },
          "metadata": {},
          "execution_count": 7
        }
      ],
      "source": [
        "# classes"
      ]
    },
    {
      "cell_type": "code",
      "execution_count": null,
      "metadata": {
        "id": "jizQsCHkycxu"
      },
      "outputs": [],
      "source": [
        "documents"
      ]
    },
    {
      "cell_type": "code",
      "execution_count": null,
      "metadata": {
        "id": "pDLprqjxyktB"
      },
      "outputs": [],
      "source": [
        "# stemmer = LancasterStemmer()\n",
        "# words = [stemmer.stem(word.lower()) for word in words if word not in ignore_chars]\n",
        "# words = sorted(list(set(words)))\n",
        "# classes = sorted(list(set(classes)))"
      ]
    },
    {
      "cell_type": "code",
      "execution_count": 17,
      "metadata": {
        "id": "dfIdW0qiyo8A"
      },
      "outputs": [],
      "source": [
        "\n",
        "# classes"
      ]
    },
    {
      "cell_type": "code",
      "execution_count": null,
      "metadata": {
        "id": "HCvZycvIyssm",
        "colab": {
          "base_uri": "https://localhost:8080/",
          "height": 283
        },
        "outputId": "df5576e5-d81e-40dd-f619-8978b875068e"
      },
      "outputs": [
        {
          "output_type": "stream",
          "name": "stdout",
          "text": [
            "Bag of Words Lengths: [244, 244, 244, 244, 244, 244, 244, 244, 244, 244, 244, 244, 244, 244, 244, 244, 244, 244, 244, 244, 244, 244, 244, 244, 244, 244, 244, 244, 244, 244, 244, 244, 244, 244, 244, 244, 244, 244, 244, 244, 244, 244, 244, 244, 244, 244, 244, 244, 244, 244, 244, 244, 244, 244, 244, 244, 244, 244, 244, 244, 244, 244, 244, 244, 244, 244, 244, 244, 244, 244, 244, 244, 244, 244, 244, 244, 244, 244, 244, 244, 244, 244, 244, 244, 244, 244, 244, 244, 244, 244, 244, 244, 244, 244, 244, 244, 244, 244, 244, 244, 244, 244, 244, 244, 244, 244, 244, 244, 244, 244, 244, 244, 244, 244, 244, 244, 244, 244, 244, 244, 244, 244, 244, 244, 244, 244, 244, 244, 244, 244, 244, 244, 244, 244, 244, 244, 244, 244, 244, 244, 244, 244, 244, 244, 244, 244, 244, 244, 244, 244, 244, 244, 244, 244, 244, 244, 244, 244, 244, 244, 244, 244, 244, 244, 244, 244, 244, 244, 244, 244, 244, 244, 244, 244, 244, 244, 244, 244, 244, 244, 244, 244, 244, 244, 244, 244, 244, 244, 244, 244, 244, 244, 244, 244, 244, 244, 244, 244, 244, 244, 244, 244, 244, 244, 244, 244, 244, 244, 244, 244, 244, 244, 244, 244, 244, 244, 244, 244, 244, 244, 244, 244, 244, 244, 244, 244, 244, 244, 244, 244, 244, 244, 244, 244, 244, 244, 244, 244, 244, 244, 244, 244, 244, 244, 244, 244, 244, 244, 244, 244, 244, 244, 244, 244, 244, 244, 244, 244, 244, 244, 244, 244, 244, 244, 244, 244, 244, 244, 244, 244, 244, 244, 244, 244, 244, 244, 244, 244, 244, 244, 244, 244, 244, 244, 244, 244, 244, 244, 244, 244, 244, 244, 244, 244, 244, 244, 244, 244, 244, 244, 244, 244, 244, 244, 244, 244, 244, 244, 244, 244, 244, 244, 244, 244, 244, 244, 244, 244, 244, 244, 244, 244, 244, 244, 244, 244, 244, 244, 244, 244, 244, 244, 244, 244, 244, 244, 244, 244, 244, 244, 244, 244, 244, 244, 244, 244, 244, 244, 244, 244, 244, 244, 244, 244, 244, 244, 244, 244, 244, 244, 244, 244, 244, 244, 244, 244, 244, 244, 244, 244, 244, 244, 244, 244, 244, 244, 244, 244, 244, 244, 244, 244, 244, 244, 244, 244, 244, 244, 244, 244, 244, 244, 244, 244, 244, 244, 244, 244, 244, 244, 244, 244, 244, 244, 244]\n",
            "Output Row Lengths: [38, 38, 38, 38, 38, 38, 38, 38, 38, 38, 38, 38, 38, 38, 38, 38, 38, 38, 38, 38, 38, 38, 38, 38, 38, 38, 38, 38, 38, 38, 38, 38, 38, 38, 38, 38, 38, 38, 38, 38, 38, 38, 38, 38, 38, 38, 38, 38, 38, 38, 38, 38, 38, 38, 38, 38, 38, 38, 38, 38, 38, 38, 38, 38, 38, 38, 38, 38, 38, 38, 38, 38, 38, 38, 38, 38, 38, 38, 38, 38, 38, 38, 38, 38, 38, 38, 38, 38, 38, 38, 38, 38, 38, 38, 38, 38, 38, 38, 38, 38, 38, 38, 38, 38, 38, 38, 38, 38, 38, 38, 38, 38, 38, 38, 38, 38, 38, 38, 38, 38, 38, 38, 38, 38, 38, 38, 38, 38, 38, 38, 38, 38, 38, 38, 38, 38, 38, 38, 38, 38, 38, 38, 38, 38, 38, 38, 38, 38, 38, 38, 38, 38, 38, 38, 38, 38, 38, 38, 38, 38, 38, 38, 38, 38, 38, 38, 38, 38, 38, 38, 38, 38, 38, 38, 38, 38, 38, 38, 38, 38, 38, 38, 38, 38, 38, 38, 38, 38, 38, 38, 38, 38, 38, 38, 38, 38, 38, 38, 38, 38, 38, 38, 38, 38, 38, 38, 38, 38, 38, 38, 38, 38, 38, 38, 38, 38, 38, 38, 38, 38, 38, 38, 38, 38, 38, 38, 38, 38, 38, 38, 38, 38, 38, 38, 38, 38, 38, 38, 38, 38, 38, 38, 38, 38, 38, 38, 38, 38, 38, 38, 38, 38, 38, 38, 38, 38, 38, 38, 38, 38, 38, 38, 38, 38, 38, 38, 38, 38, 38, 38, 38, 38, 38, 38, 38, 38, 38, 38, 38, 38, 38, 38, 38, 38, 38, 38, 38, 38, 38, 38, 38, 38, 38, 38, 38, 38, 38, 38, 38, 38, 38, 38, 38, 38, 38, 38, 38, 38, 38, 38, 38, 38, 38, 38, 38, 38, 38, 38, 38, 38, 38, 38, 38, 38, 38, 38, 38, 38, 38, 38, 38, 38, 38, 38, 38, 38, 38, 38, 38, 38, 38, 38, 38, 38, 38, 38, 38, 38, 38, 38, 38, 38, 38, 38, 38, 38, 38, 38, 38, 38, 38, 38, 38, 38, 38, 38, 38, 38, 38, 38, 38, 38, 38, 38, 38, 38, 38, 38, 38, 38, 38, 38, 38, 38, 38, 38, 38, 38, 38, 38, 38, 38, 38, 38, 38, 38, 38, 38, 38, 38, 38, 38, 38, 38, 38]\n"
          ]
        },
        {
          "output_type": "error",
          "ename": "ValueError",
          "evalue": "setting an array element with a sequence. The requested array has an inhomogeneous shape after 2 dimensions. The detected shape was (405, 2) + inhomogeneous part.",
          "traceback": [
            "\u001b[0;31m---------------------------------------------------------------------------\u001b[0m",
            "\u001b[0;31mValueError\u001b[0m                                Traceback (most recent call last)",
            "\u001b[0;32m<ipython-input-13-ef674cd8218b>\u001b[0m in \u001b[0;36m<cell line: 28>\u001b[0;34m()\u001b[0m\n\u001b[1;32m     26\u001b[0m \u001b[0mprint\u001b[0m\u001b[0;34m(\u001b[0m\u001b[0;34m\"Output Row Lengths:\"\u001b[0m\u001b[0;34m,\u001b[0m \u001b[0moutput_row_lengths\u001b[0m\u001b[0;34m)\u001b[0m\u001b[0;34m\u001b[0m\u001b[0;34m\u001b[0m\u001b[0m\n\u001b[1;32m     27\u001b[0m \u001b[0;34m\u001b[0m\u001b[0m\n\u001b[0;32m---> 28\u001b[0;31m \u001b[0mtraining_data\u001b[0m \u001b[0;34m=\u001b[0m \u001b[0mnp\u001b[0m\u001b[0;34m.\u001b[0m\u001b[0marray\u001b[0m\u001b[0;34m(\u001b[0m\u001b[0mtraining_data\u001b[0m\u001b[0;34m)\u001b[0m\u001b[0;34m\u001b[0m\u001b[0;34m\u001b[0m\u001b[0m\n\u001b[0m\u001b[1;32m     29\u001b[0m \u001b[0mtrain_x\u001b[0m \u001b[0;34m=\u001b[0m \u001b[0mlist\u001b[0m\u001b[0;34m(\u001b[0m\u001b[0mtraining_data\u001b[0m\u001b[0;34m[\u001b[0m\u001b[0;34m:\u001b[0m\u001b[0;34m,\u001b[0m \u001b[0;36m0\u001b[0m\u001b[0;34m]\u001b[0m\u001b[0;34m)\u001b[0m\u001b[0;34m\u001b[0m\u001b[0;34m\u001b[0m\u001b[0m\n\u001b[1;32m     30\u001b[0m \u001b[0mtrain_y\u001b[0m \u001b[0;34m=\u001b[0m \u001b[0mlist\u001b[0m\u001b[0;34m(\u001b[0m\u001b[0mtraining_data\u001b[0m\u001b[0;34m[\u001b[0m\u001b[0;34m:\u001b[0m\u001b[0;34m,\u001b[0m \u001b[0;36m1\u001b[0m\u001b[0;34m]\u001b[0m\u001b[0;34m)\u001b[0m\u001b[0;34m\u001b[0m\u001b[0;34m\u001b[0m\u001b[0m\n",
            "\u001b[0;31mValueError\u001b[0m: setting an array element with a sequence. The requested array has an inhomogeneous shape after 2 dimensions. The detected shape was (405, 2) + inhomogeneous part."
          ]
        }
      ],
      "source": [
        "# import random\n",
        "# import numpy as np\n",
        "\n",
        "# training_data = []\n",
        "# output_empty = [0] * len(classes)\n",
        "\n",
        "# for doc in documents:\n",
        "#     bagofwords = []\n",
        "#     word_patterns = doc[0]\n",
        "#     word_patterns = [stemmer.stem(word.lower()) for word in word_patterns]\n",
        "\n",
        "#     for word in words:\n",
        "#         bagofwords.append(1) if word in word_patterns else bagofwords.append(0)\n",
        "\n",
        "#     output_row = list(output_empty)\n",
        "#     output_row[classes.index(doc[1])] = 1\n",
        "#     training_data.append([bagofwords, output_row])\n",
        "\n",
        "# random.shuffle(training_data)\n",
        "\n",
        "# # Inspect the lengths of bag of words vectors and output rows\n",
        "# bag_of_words_lengths = [len(data[0]) for data in training_data]\n",
        "# output_row_lengths = [len(data[1]) for data in training_data]\n",
        "\n",
        "# print(\"Bag of Words Lengths:\", bag_of_words_lengths)\n",
        "# print(\"Output Row Lengths:\", output_row_lengths)\n",
        "\n",
        "# training_data = np.array(training_data)\n",
        "# train_x = list(training_data[:, 0])\n",
        "# train_y = list(training_data[:, 1])\n",
        "\n",
        "# print(\"done!!\")\n"
      ]
    }
  ],
  "metadata": {
    "colab": {
      "provenance": [],
      "gpuType": "T4",
      "mount_file_id": "19rNeB3yZ8XcVMgr1XWdV9GF0b3hjT9m_",
      "authorship_tag": "ABX9TyPWFcnHUbYvsKhmbsKWUwH4",
      "include_colab_link": true
    },
    "kernelspec": {
      "display_name": "Python 3",
      "name": "python3"
    },
    "language_info": {
      "name": "python"
    },
    "accelerator": "GPU"
  },
  "nbformat": 4,
  "nbformat_minor": 0
}